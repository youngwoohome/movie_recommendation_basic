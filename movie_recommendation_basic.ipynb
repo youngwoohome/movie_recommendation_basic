{
  "nbformat": 4,
  "nbformat_minor": 0,
  "metadata": {
    "colab": {
      "name": "movie_recommendation_basic.ipynb",
      "provenance": []
    },
    "kernelspec": {
      "name": "python3",
      "display_name": "Python 3"
    },
    "language_info": {
      "name": "python"
    }
  },
  "cells": [
    {
      "cell_type": "code",
      "execution_count": null,
      "metadata": {
        "id": "GMDl_j3ADA5F"
      },
      "outputs": [],
      "source": [
        "import pandas as pd\n",
        "from sklearn.feature_extraction.text import TfidfVectorizer\n",
        "from sklearn.metrics.pairwise import cosine_similarity\n",
        "\n",
        "data = pd.read_csv('movies_metadata.csv', low_memory = False)\n",
        "data.head(2)"
      ]
    },
    {
      "cell_type": "code",
      "source": [
        "#null check\n",
        "#TF-IDF 연산때 NULL 값이 있으면 에러남\n",
        "data = data.head(20000)\n",
        "print(data['overview'].isnull().sum())"
      ],
      "metadata": {
        "colab": {
          "base_uri": "https://localhost:8080/"
        },
        "id": "auy0KoP4D17-",
        "outputId": "04072085-a4c2-4da1-c6d6-b98506c26f09"
      },
      "execution_count": 3,
      "outputs": [
        {
          "output_type": "stream",
          "name": "stdout",
          "text": [
            "135\n"
          ]
        }
      ]
    },
    {
      "cell_type": "code",
      "source": [
        "#null -> empty\n",
        "data['overview'] = data['overview'].fillna('')"
      ],
      "metadata": {
        "id": "2Jd1VjfsEUUh"
      },
      "execution_count": 4,
      "outputs": []
    },
    {
      "cell_type": "code",
      "source": [
        "#20000 rows, 47487 columns\n",
        "#20000 영화를 표현하기 위해 총 47487개의 단어가 사용됨\n",
        "tfidf = TfidfVectorizer(stop_words='english')\n",
        "tfidf_matrix = tfidf.fit_transform(data['overview'])\n",
        "print('TF-IDF shape:',tfidf_matrix.shape)"
      ],
      "metadata": {
        "colab": {
          "base_uri": "https://localhost:8080/"
        },
        "id": "WSH8aS0VEoup",
        "outputId": "e6f1debc-29c7-4a10-a399-e72112d4bf2c"
      },
      "execution_count": 7,
      "outputs": [
        {
          "output_type": "stream",
          "name": "stdout",
          "text": [
            "TF-IDF shape: (20000, 47487)\n"
          ]
        }
      ]
    },
    {
      "cell_type": "code",
      "source": [
        "#cosine 유사도 계산\n",
        "#20000개의 문서 벡터간의 유사도 기록됨\n",
        "cosine_sim = cosine_similarity(tfidf_matrix, tfidf_matrix)\n",
        "print(cosine_sim.shape)"
      ],
      "metadata": {
        "colab": {
          "base_uri": "https://localhost:8080/"
        },
        "id": "V0LFWAjiFPDM",
        "outputId": "ea5d4839-30da-4f32-ce44-bc436ab90843"
      },
      "execution_count": 8,
      "outputs": [
        {
          "output_type": "stream",
          "name": "stdout",
          "text": [
            "(20000, 20000)\n"
          ]
        }
      ]
    },
    {
      "cell_type": "code",
      "source": [
        "#영화 타이틀을 key, 영화 인덱스를 value로 하는 dictionary만듬\n",
        "title_to_index = dict(zip(data['title'], data.index))"
      ],
      "metadata": {
        "id": "lgA4zYsGGWQA"
      },
      "execution_count": 9,
      "outputs": []
    },
    {
      "cell_type": "code",
      "source": [
        "def get_recommendations(title, cosine_sim = cosine_sim):\n",
        "  #영화 인덱스 받아오기\n",
        "  idx = title_to_index[title]\n",
        "\n",
        "  #해당 영화와 모든 영화와의 유사도 가져옴\n",
        "  sim_scores = list(enumerate(cosine_sim[idx]))\n",
        "\n",
        "  #유사도에 따라 영화들 정렬\n",
        "  sim_scores = sorted(sim_scores, key=lambda x:x[1], reverse=True)\n",
        "\n",
        "  #가장 유력한 5개\n",
        "  sim_scores = sim_scores[1:6]\n",
        "  \n",
        "\n",
        "  #유력한 5개 영화의 인덱스\n",
        "  movie_indices = [idx[0] for idx in sim_scores]\n",
        "\n",
        "  return data['title'].iloc[movie_indices]"
      ],
      "metadata": {
        "id": "k4YfNtyuGrxV"
      },
      "execution_count": 12,
      "outputs": []
    },
    {
      "cell_type": "code",
      "source": [
        "get_recommendations('The Dark Knight Rises')"
      ],
      "metadata": {
        "colab": {
          "base_uri": "https://localhost:8080/"
        },
        "id": "xKC_cHjnHuy1",
        "outputId": "750db295-3116-42d7-f2f0-72899fe564b8"
      },
      "execution_count": 11,
      "outputs": [
        {
          "output_type": "execute_result",
          "data": {
            "text/plain": [
              "12481               The Dark Knight\n",
              "150                  Batman Forever\n",
              "1328                 Batman Returns\n",
              "15511    Batman: Under the Red Hood\n",
              "585                          Batman\n",
              "Name: title, dtype: object"
            ]
          },
          "metadata": {},
          "execution_count": 11
        }
      ]
    }
  ]
}